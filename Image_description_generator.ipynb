{
  "nbformat": 4,
  "nbformat_minor": 0,
  "metadata": {
    "colab": {
      "provenance": []
    },
    "kernelspec": {
      "name": "python3",
      "display_name": "Python 3"
    },
    "language_info": {
      "name": "python"
    }
  },
  "cells": [
    {
      "cell_type": "code",
      "execution_count": null,
      "metadata": {
        "id": "OUyTVvkZFFuM"
      },
      "outputs": [],
      "source": [
        "# Import necessary libraries\n",
        "import numpy as np\n",
        "import pandas as pd\n",
        "import tensorflow as tf\n",
        "from tensorflow.keras.preprocessing.sequence import pad_sequences\n",
        "from tensorflow.keras.utils import to_categorical\n",
        "from tensorflow.keras.applications.inception_v3 import InceptionV3\n",
        "from tensorflow.keras.models import Model\n",
        "from tensorflow.keras.layers import Input, Dense, Dropout, Embedding, LSTM\n",
        "from tensorflow.keras.callbacks import ModelCheckpoint\n",
        "\n",
        "# Load the Flickr8k dataset\n",
        "filename = 'Flickr8k_text/Flickr8k.token.txt'\n",
        "file = open(filename, 'r')\n",
        "doc = file.read()\n",
        "\n",
        "# Parse the captions and create a dictionary with image filenames and their captions\n",
        "captions = {}\n",
        "for line in doc.split('\\n'):\n",
        "    tokens = line.split()\n",
        "    if len(line) < 2:\n",
        "        continue\n",
        "    image_id, image_caption = tokens[0], tokens[1:]\n",
        "    image_id = image_id.split('.')[0]\n",
        "    image_caption = ' '.join(image_caption)\n",
        "    if image_id not in captions:\n",
        "        captions[image_id] = []\n",
        "    captions[image_id].append(image_caption)\n",
        "\n",
        "# Load the image features extracted by InceptionV3\n",
        "features = np.load('features.npy')\n",
        "\n",
        "# Create a dictionary with image filenames and their features\n",
        "features_dict = {}\n",
        "for feature in features:\n",
        "    features_dict[feature[0]] = feature[1]\n",
        "\n",
        "# Tokenize the captions\n",
        "tokenizer = tf.keras.preprocessing.text.Tokenizer(num_words=10000)\n",
        "tokenizer.fit_on_texts(list(captions.values()))\n",
        "sequences = tokenizer.texts_to_sequences(list(captions.values()))\n",
        "\n",
        "# Pad the sequences\n",
        "max_length = max(len(seq) for seq in sequences)\n",
        "padded_sequences = pad_sequences(sequences, maxlen=max_length, padding='post')\n",
        "\n",
        "# Create input and output data\n",
        "X = np.array([features_dict[image_id] for image_id in captions.keys()])\n",
        "y = padded_sequences\n",
        "\n",
        "# Define the model architecture\n",
        "input_layer = Input(shape=(2048,))\n",
        "dropout_layer = Dropout(0.5)(input_layer)\n",
        "embedding_layer = Embedding(input_dim=10000, output_dim=256, input_length=max_length)(y)\n",
        "lstm_layer = LSTM(256)(embedding_layer)\n",
        "output_layer = Dense(10000, activation='softmax')(lstm_layer)\n",
        "model = Model(inputs=[input_layer, y], outputs=output_layer)\n",
        "\n",
        "# Compile the model\n",
        "model.compile(loss='categorical_crossentropy', optimizer='adam')\n",
        "\n",
        "# Train the model\n",
        "model.fit([X, y], y, epochs=50, batch_size=64)\n"
      ]
    }
  ]
}